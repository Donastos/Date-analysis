{
 "cells": [
  {
   "cell_type": "markdown",
   "metadata": {},
   "source": [
    "# Задание 1"
   ]
  },
  {
   "cell_type": "markdown",
   "metadata": {},
   "source": [
    "Напишите функцию, которая принимает на вход строку и проверяет является ли она валидным транспортным номером (1 буква, 3 цифры, 2 буквы, 2-3 цифры). Обратите внимание, что не все буквы кириллического алфавита используются в транспортных номерах.\n",
    "\n",
    "Если номер валиден, то функция должна возвращать отдельно номер и регион.\n",
    "\n",
    "Примеры работы программы:\n",
    "\n",
    "car_id = 'A222BC96’\n",
    "Результат: Номер A222BС валиден. Регион: 96\n",
    "\n",
    "car_id = 'АБ22ВВ193’\n",
    "Результат: Номер не валиден"
   ]
  },
  {
   "cell_type": "code",
   "execution_count": 1,
   "metadata": {},
   "outputs": [],
   "source": [
    "import re"
   ]
  },
  {
   "cell_type": "code",
   "execution_count": 2,
   "metadata": {},
   "outputs": [
    {
     "name": "stdout",
     "output_type": "stream",
     "text": [
      "Номер ['А222ВС'] валиден. Регион: ['96']\n"
     ]
    }
   ],
   "source": [
    "car_id = 'А222ВС96'\n",
    "re_chek = re.findall(r'^[АВЕКМНОРСТУХ]\\d{3}[АВЕКМНОРСТУХ]{2}\\d{2}$', car_id)\n",
    "number = re.findall(r'^[АВЕКМНОРСТУХ]\\d{3}[АВЕКМНОРСТУХ]{2}',car_id)\n",
    "region = re.findall(r'\\d{2,3}$', car_id)\n",
    "\n",
    "if re_chek:\n",
    "    print('Номер', number, 'валиден. Регион:', region)\n",
    "else:\n",
    "    print('Номер не валиден')"
   ]
  },
  {
   "cell_type": "markdown",
   "metadata": {},
   "source": [
    "# Задание 2 "
   ]
  },
  {
   "cell_type": "markdown",
   "metadata": {},
   "source": [
    "Напишите функцию, которая будет удалять все последовательные повторы слов из заданной строки при помощи регулярных выражений.\n",
    "\n",
    "Пример работы программы:\n",
    "\n",
    "some_string = ‘Напишите функцию функцию, которая будет будет будет будет удалять все все все все последовательные повторы слов из из из из заданной строки строки при помощи регулярных выражений.’\n",
    "\n",
    "Результат:\n",
    "Напишите функцию, которая будет удалять все последовательные повторы слов из заданной строки при помощи регулярных выражений."
   ]
  },
  {
   "cell_type": "code",
   "execution_count": 3,
   "metadata": {},
   "outputs": [
    {
     "name": "stdout",
     "output_type": "stream",
     "text": [
      "Напишите функцию которая будет удалять все последовательные повторы слов из заданной строки при помощи регулярных выражений\n"
     ]
    }
   ],
   "source": [
    "some_string = 'Напишите функцию функцию, которая будет будет будет будет удалять все все все все последовательные повторы слов из из из из заданной строки строки при помощи регулярных выражений.'\n",
    "print( re.sub(r'\\b([^\\W\\d_]+)(\\s+\\1)+\\b', r'\\1', re.sub(r'\\W+', ' ', some_string).strip(), flags=re.I) )"
   ]
  },
  {
   "cell_type": "code",
   "execution_count": 4,
   "metadata": {},
   "outputs": [],
   "source": [
    "#re.sub(r'\\W+', ' ', s).strip() - заменяет 1 и более символов, отличных от букв, цифр и знаков подчёркивания, на один пробел, .strip() удалит пробелы в начале и конце строки\n",
    "#re.sub(r'\\b([^\\W\\d_]+)(\\s+\\1)+\\b', r'\\1', ..., flags=re.I):\n",
    "#\\b([^\\W\\d_]+)(\\s+\\1)+\\b - находит и захватывает слово (последовательность 1 и более букв в границах слова), после которого следует 1 и более повторов 1+ пробельных символов и такое же слово, за которыми следует граница слова\n",
    "#r'\\1' - заменяет найденное совпадение единичным экземпляром найденного слова (значение подмаски №1)\n",
    "#flags=re.I - включает регистронезависимый поиск текста"
   ]
  },
  {
   "cell_type": "markdown",
   "metadata": {},
   "source": [
    "# Задание 3"
   ]
  },
  {
   "cell_type": "markdown",
   "metadata": {},
   "source": [
    "Напишите функцию, которая будет возвращать акроним по переданной в нее строке со словами.\n",
    "\n",
    "Примеры работы программы:\n",
    "\n",
    "some_words = 'Информационные технологии’\n",
    "Результат: ИТ\n",
    "\n",
    "some_words = 'Near Field Communication’\n",
    "Результат: NFC"
   ]
  },
  {
   "cell_type": "code",
   "execution_count": 5,
   "metadata": {},
   "outputs": [
    {
     "name": "stdout",
     "output_type": "stream",
     "text": [
      "Ит\n",
      "NFC\n"
     ]
    }
   ],
   "source": [
    "fire = \"Информационные технологии\"\n",
    "flame = \"Near Field Communication\"\n",
    "i = re.sub(r'(\\w)\\w+(\\s|$)', r'\\1', fire)\n",
    "l = re.sub(r'(\\w)\\w+(\\s|$)', r'\\1', flame)\n",
    "print(i)\n",
    "print(l)"
   ]
  },
  {
   "cell_type": "markdown",
   "metadata": {},
   "source": [
    "# Задание 4"
   ]
  },
  {
   "cell_type": "markdown",
   "metadata": {},
   "source": [
    "Напишите функцию, которая будет принимать на вход список email-адресов и выводить их распределение по доменным зонам.\n",
    "\n",
    "Пример работы программы:\n",
    "\n",
    "emails = [‘test@gmail.com’, ‘xyz@test.in’, ‘test@ya.ru’, ‘xyz@mail.ru’, ‘xyz@ya.ru’, ‘xyz@gmail.com’]\n",
    "\n",
    "Результат:\n",
    "\n",
    "gmail.com: 2\n",
    "test.in: 1\n",
    "ya.ru: 2\n",
    "mail.ru: 1"
   ]
  },
  {
   "cell_type": "code",
   "execution_count": 6,
   "metadata": {},
   "outputs": [],
   "source": [
    "#Хотел попробовать через счетчик, вот только он не хочет увеличиваться :(\n",
    "#Решил проще ниже :3"
   ]
  },
  {
   "cell_type": "code",
   "execution_count": 7,
   "metadata": {},
   "outputs": [
    {
     "name": "stdout",
     "output_type": "stream",
     "text": [
      "['@gmail', '@test', '@ya', '@mail', '@ya', '@gmail']\n",
      "['@gmail', '@gmail']\n",
      "0\n"
     ]
    }
   ],
   "source": [
    "email = ['test@gmail.com', 'xyz@test.in', 'test@ya.ru', 'xyz@mail.ru', 'xyz@ya.ru', 'xyz@gmail.com']\n",
    "domain = re.findall(r'@\\w+', str(email))\n",
    "print(domain)\n",
    "\n",
    "test = 0\n",
    "mail = 0\n",
    "ya = 0\n",
    "gmail = 0\n",
    "\n",
    "\n",
    "goal = re.findall(r'@g\\w+', str(email))\n",
    "print(goal)\n",
    "\n",
    "if goal in domain:\n",
    "    gmail += 1\n",
    "print(gmail)\n",
    "    "
   ]
  },
  {
   "cell_type": "code",
   "execution_count": 8,
   "metadata": {},
   "outputs": [],
   "source": [
    "#Выполененное задание"
   ]
  },
  {
   "cell_type": "code",
   "execution_count": 9,
   "metadata": {},
   "outputs": [
    {
     "name": "stdout",
     "output_type": "stream",
     "text": [
      "gmail.com:  2\n",
      "test.in:  1\n",
      "mail.ru:  1\n",
      "ya.ru:  2\n"
     ]
    }
   ],
   "source": [
    "email = ['test@gmail.com', 'xyz@test.in', 'test@ya.ru', 'xyz@mail.ru', 'xyz@ya.ru', 'xyz@gmail.com']\n",
    "\n",
    "gal = re.findall(r'@g\\w+', str(email))\n",
    "tes = re.findall(r'@t\\w+', str(email)) \n",
    "mail = re.findall(r'@m\\w+', str(email))\n",
    "ya = re.findall(r'@y\\w+', str(email))\n",
    "\n",
    "print('gmail.com: ', len(gal))\n",
    "print('test.in: ', len(tes))\n",
    "print('mail.ru: ', len(mail))\n",
    "print('ya.ru: ', len(ya))"
   ]
  }
 ],
 "metadata": {
  "kernelspec": {
   "display_name": "Python 3",
   "language": "python",
   "name": "python3"
  },
  "language_info": {
   "codemirror_mode": {
    "name": "ipython",
    "version": 3
   },
   "file_extension": ".py",
   "mimetype": "text/x-python",
   "name": "python",
   "nbconvert_exporter": "python",
   "pygments_lexer": "ipython3",
   "version": "3.8.5"
  }
 },
 "nbformat": 4,
 "nbformat_minor": 4
}
