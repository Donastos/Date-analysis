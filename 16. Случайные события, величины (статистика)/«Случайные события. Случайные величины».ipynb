{
 "cells": [
  {
   "cell_type": "markdown",
   "metadata": {},
   "source": [
    "# Домашнее задание к лекции «Случайные события. Случайные величины»"
   ]
  },
  {
   "cell_type": "markdown",
   "metadata": {},
   "source": [
    "Смоделировать игру против лотерейного автомата типа “777”. Игрок платит 1 руб., после чего выпадает случайное целое число, равномерно распределенное от 0 до 999. При некоторых значениях числа игрок получает выигрыш.\n",
    "\n",
    "777: 200 руб.\n",
    "999: 100 руб.\n",
    "555: 50 руб.\n",
    "333: 15 руб.\n",
    "111: 10 руб.\n",
    "*77: 5 руб.\n",
    "**7: 3 руб.\n",
    "*00: 2 руб.\n",
    "**0: 1 руб.\n",
    "\n",
    "Вопросы:\n",
    "\n",
    "Выгодна ли игра игроку?\n",
    "Сколько в среднем приобретает или теряет игрок за одну игру?"
   ]
  },
  {
   "cell_type": "code",
   "execution_count": 2,
   "metadata": {},
   "outputs": [],
   "source": [
    "import numpy as np"
   ]
  },
  {
   "cell_type": "code",
   "execution_count": 671,
   "metadata": {},
   "outputs": [
    {
     "name": "stdout",
     "output_type": "stream",
     "text": [
      "-15485 руб.\n",
      "20284\n"
     ]
    }
   ],
   "source": [
    "player = 10                                        # Деньги игрока\n",
    "trials = 100000                                    # Кол-во попыток\n",
    "successes = 0                                      # Кол-во Успешных попыток\n",
    "\n",
    "for i in range(trials):\n",
    "    \n",
    "    player -= 1                               # Трата за одну игру\n",
    "    \n",
    "    random_score = np.random.randint(0, 1000)    # Случайное количество очков от 0 до 999\n",
    "    \n",
    "    \n",
    "            # Добавляем значения выйгрыша\n",
    "    \n",
    "    if random_score == 777:     \n",
    "        player += 200 \n",
    "        successes += 1\n",
    "    \n",
    "    elif random_score == 999:                 \n",
    "        player += 100 \n",
    "        successes += 1\n",
    "    \n",
    "    elif random_score == 555:\n",
    "        player += 50 \n",
    "        successes += 1\n",
    "    \n",
    "    elif random_score == 333:\n",
    "        player += 15 \n",
    "        successes += 1\n",
    "    \n",
    "    elif random_score == 111:\n",
    "        player += 10 \n",
    "        successes += 1\n",
    "    \n",
    "    elif random_score % 100 == 77:\n",
    "        player += 5\n",
    "        successes += 1\n",
    "    \n",
    "    elif random_score % 10 == 7:\n",
    "        player += 3\n",
    "        successes += 1\n",
    "    \n",
    "    elif random_score % 100 == 0:\n",
    "        player += 2\n",
    "        successes += 1\n",
    "    \n",
    "    elif random_score % 10 == 0:\n",
    "        player += 1\n",
    "        successes += 1\n",
    "        \n",
    "    else:\n",
    "        pass\n",
    "    \n",
    "print(player, 'руб.')\n",
    "print(successes)\n"
   ]
  },
  {
   "cell_type": "code",
   "execution_count": 401,
   "metadata": {},
   "outputs": [
    {
     "data": {
      "text/plain": [
       "0.801"
      ]
     },
     "execution_count": 401,
     "metadata": {},
     "output_type": "execute_result"
    }
   ],
   "source": [
    "# Cреднее значение\n",
    "\n",
    "p_777 = 1/1000\n",
    "p_999 = 1/1000\n",
    "p_555 = 1/1000\n",
    "p_333 = 1/1000\n",
    "p_111 = 1/1000\n",
    "p_77 = 9/1000    # т.к 77 встречается в 1000 списке цифр 9 раз\n",
    "p_7 = 91/1000    # т.к 7 встречается в 1000 списке цифр 91 раз\n",
    "p_00 = 9/1000    # т.к счет идет до 999\n",
    "p_0 = 90/1000\n",
    "\n",
    "ALL = p_777*(200 + 100 + 50 + 15 + 10) + p_77*5 + p_7*3 + p_00*2 + p_0*1 \n",
    "ALL"
   ]
  },
  {
   "cell_type": "code",
   "execution_count": 676,
   "metadata": {},
   "outputs": [
    {
     "data": {
      "text/plain": [
       "0.204"
      ]
     },
     "execution_count": 676,
     "metadata": {},
     "output_type": "execute_result"
    }
   ],
   "source": [
    "# Теоретическая вероятность\n",
    "\n",
    "(5+9+91+9+90) / 1000"
   ]
  },
  {
   "cell_type": "code",
   "execution_count": 672,
   "metadata": {},
   "outputs": [
    {
     "data": {
      "text/plain": [
       "0.20284"
      ]
     },
     "execution_count": 672,
     "metadata": {},
     "output_type": "execute_result"
    }
   ],
   "source": [
    "# Вероятность из моделирования\n",
    "\n",
    "p_777 = successes / trials\n",
    "p_777"
   ]
  }
 ],
 "metadata": {
  "kernelspec": {
   "display_name": "Python 3",
   "language": "python",
   "name": "python3"
  },
  "language_info": {
   "codemirror_mode": {
    "name": "ipython",
    "version": 3
   },
   "file_extension": ".py",
   "mimetype": "text/x-python",
   "name": "python",
   "nbconvert_exporter": "python",
   "pygments_lexer": "ipython3",
   "version": "3.8.5"
  }
 },
 "nbformat": 4,
 "nbformat_minor": 4
}
