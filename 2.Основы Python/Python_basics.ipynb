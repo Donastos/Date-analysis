{
 "cells": [
  {
   "cell_type": "markdown",
   "metadata": {},
   "source": [
    "# Задание 1. "
   ]
  },
  {
   "cell_type": "markdown",
   "metadata": {},
   "source": [
    "Даны 2 переменных, в которых хранятся строки произвольной длины: phrase_1 и phrase_2. Напишите код, который проверяет какая из этих строк длиннее."
   ]
  },
  {
   "cell_type": "code",
   "execution_count": 1,
   "metadata": {},
   "outputs": [
    {
     "name": "stdout",
     "output_type": "stream",
     "text": [
      "Фраза 2 длиннее фразы 1\n"
     ]
    }
   ],
   "source": [
    "phrase_1 = \"society should be friendly\"\n",
    "phrase_2 = \"society must understand how to create a friendly society\"\n",
    "if len(phrase_1) > len(phrase_2):\n",
    "    print('Фраза 1 длиннее фразы 2')\n",
    "elif len(phrase_1) == len(phrase_2):\n",
    "    print(\"Фразы равной длины\")\n",
    "else:\n",
    "    print(\"Фраза 2 длиннее фразы 1\")"
   ]
  },
  {
   "cell_type": "markdown",
   "metadata": {},
   "source": [
    "# Задание 2."
   ]
  },
  {
   "cell_type": "markdown",
   "metadata": {},
   "source": [
    "Дана переменная, в которой хранится четырехзначное число (год). Необходимо написать программу, которая выведет, является ли данный год високосным или обычным."
   ]
  },
  {
   "cell_type": "code",
   "execution_count": 2,
   "metadata": {},
   "outputs": [
    {
     "name": "stdout",
     "output_type": "stream",
     "text": [
      "Введите год\n",
      "1998\n",
      "Обычный\n"
     ]
    }
   ],
   "source": [
    "print(\"Введите год\")\n",
    "year = int(input())\n",
    "if year % 4 != 0 or (year % 100 == 0 and year % 400 != 0):\n",
    "    print(\"Обычный\")\n",
    "else:\n",
    "    print(\"Високосный\")"
   ]
  },
  {
   "cell_type": "markdown",
   "metadata": {},
   "source": [
    "# Задание 3."
   ]
  },
  {
   "cell_type": "markdown",
   "metadata": {},
   "source": [
    "Необходимо написать программу, которая будет запрашивать у пользователя месяц и дату рождения и выводить соответствующий знак зодиака.\n",
    "\n",
    "Пример работы программы:\n",
    "\n",
    "Введите день: 30\n",
    "\n",
    "Введите месяц: Август Результат: Ваш знак зодиака: Дева\n",
    "\n",
    "Введите день: 29\n",
    "\n",
    "Введите месяц: Октябрь Результат: Ваш знак зодиака: Скорпион"
   ]
  },
  {
   "cell_type": "code",
   "execution_count": 3,
   "metadata": {},
   "outputs": [
    {
     "name": "stdout",
     "output_type": "stream",
     "text": [
      "Введите день\n",
      "7\n",
      "Введите месяц рождения\n",
      "10\n",
      "Ваш знак зодиака Рыбы\n"
     ]
    }
   ],
   "source": [
    "print(\"Введите день\")\n",
    "day = int(input())\n",
    "print(\"Введите месяц рождения\")\n",
    "month = int(input())\n",
    "if (month == \"март\" and 21 <= day <= 31) or (month == \"апрель\" and 1<=day <=20):\n",
    "    print(\"Ваш знак зодиака Овен\")\n",
    "elif (month == \"апрель\" and 21 <= day <= 31) or (month == \"май\" and 1 <= day <=21):\n",
    "    print(\"Ваш знак зодиака Телец\")\n",
    "elif (month == \"май\" and 22 <= day <= 31) or (month == \"июнь\" and 1 <= day <= 21):\n",
    "    print(\"Ваш знак зодиака Близнецы\")\n",
    "elif (month == \"июнь\" and 22 <= day <= 31) or (month == \"июль\" and 1 <= day <= 22):\n",
    "    print(\"Ваш знак зодиака Рак\")\n",
    "elif (month == \"июль\" and 23 <= day <= 31) or (month == \"август\" and 1 <= day <= 23):\n",
    "    print(\"Ваш знак зодиака Лев\")\n",
    "elif (month == \"август\" and 24 <= day <= 31) or (month == \"сентябрь\" and 1 <= day <= 23):\n",
    "    print(\"Ваш знак зодиака Дева\")\n",
    "elif (month == \"сентябрь\" and 24 <= day <= 31) or (month == \"октябрь\" and 1 <= day <= 23):\n",
    "    print(\"Ваш знак зодиака Весы\")\n",
    "elif (month == \"октябрь\" and 24 <= day <= 31) or (month == \"ноябрь\" and 1 <= day <= 22):\n",
    "    print(\"Ваш знак зодиака Скорпион\")\n",
    "elif (month == \"ноябрь\" and 23 <= day <= 31) or (month == \"декабрь\" and 1 <= day <= 22):\n",
    "    print(\"Ваш знак зодиака Стрелец\")\n",
    "elif (month == \"декабрь\" and 23 <= day <= 31) or (month == \"январь\" and 1 <= day <= 20):\n",
    "    print(\"Ваш знак зодиака Козерог\")\n",
    "elif (month == \"январь\" and 21 <= day <= 31) or (month == \"февраль\" and 1 <= day <= 19):\n",
    "    print(\"Ваш знак зодиака Водолей\")\n",
    "else:\n",
    "    print(\"Ваш знак зодиака Рыбы\")"
   ]
  },
  {
   "cell_type": "markdown",
   "metadata": {},
   "source": [
    "# Задание 4"
   ]
  },
  {
   "cell_type": "markdown",
   "metadata": {},
   "source": [
    "Вам нужно написать программу для подбора упаковок по размерам товара. Размеры (ширина, длина, высота) хранятся в переменных (в сантиметрах): width Length height Используйте следующие правила:\n",
    "\n",
    "если каждое из трех измерений менее 15 сантиметров, то выведите на экран \"Коробка №1\"; \n",
    "если хотя бы одно из измерений больше 15 сантиметров, но менее 50 сантиметров, то выводите \"Коробка №2\"; \n",
    "если длина товара больше 2 метров, то выводите \"Упаковка для лыж\"; \n",
    "во всех остальных случаях выводите \"Стандартная коробка №3\"."
   ]
  },
  {
   "cell_type": "code",
   "execution_count": 35,
   "metadata": {},
   "outputs": [
    {
     "name": "stdout",
     "output_type": "stream",
     "text": [
      "Введите ширину\n"
     ]
    },
    {
     "ename": "KeyboardInterrupt",
     "evalue": "Interrupted by user",
     "output_type": "error",
     "traceback": [
      "\u001b[1;31m---------------------------------------------------------------------------\u001b[0m",
      "\u001b[1;31mKeyboardInterrupt\u001b[0m                         Traceback (most recent call last)",
      "\u001b[1;32m<ipython-input-35-c7b939c9f10c>\u001b[0m in \u001b[0;36m<module>\u001b[1;34m\u001b[0m\n\u001b[0;32m      1\u001b[0m \u001b[0mprint\u001b[0m\u001b[1;33m(\u001b[0m\u001b[1;34m\"Введите ширину\"\u001b[0m\u001b[1;33m)\u001b[0m\u001b[1;33m\u001b[0m\u001b[1;33m\u001b[0m\u001b[0m\n\u001b[1;32m----> 2\u001b[1;33m \u001b[0mwidth\u001b[0m \u001b[1;33m=\u001b[0m \u001b[0mint\u001b[0m\u001b[1;33m(\u001b[0m\u001b[0minput\u001b[0m\u001b[1;33m(\u001b[0m\u001b[1;33m)\u001b[0m\u001b[1;33m)\u001b[0m\u001b[1;33m\u001b[0m\u001b[1;33m\u001b[0m\u001b[0m\n\u001b[0m\u001b[0;32m      3\u001b[0m \u001b[0mprint\u001b[0m\u001b[1;33m(\u001b[0m\u001b[1;34m\"Введите длину\"\u001b[0m\u001b[1;33m)\u001b[0m\u001b[1;33m\u001b[0m\u001b[1;33m\u001b[0m\u001b[0m\n\u001b[0;32m      4\u001b[0m \u001b[0mlength\u001b[0m \u001b[1;33m=\u001b[0m \u001b[0mint\u001b[0m\u001b[1;33m(\u001b[0m\u001b[0minput\u001b[0m\u001b[1;33m(\u001b[0m\u001b[1;33m)\u001b[0m\u001b[1;33m)\u001b[0m\u001b[1;33m\u001b[0m\u001b[1;33m\u001b[0m\u001b[0m\n\u001b[0;32m      5\u001b[0m \u001b[0mprint\u001b[0m\u001b[1;33m(\u001b[0m\u001b[1;34m\"Введите высоту\"\u001b[0m\u001b[1;33m)\u001b[0m\u001b[1;33m\u001b[0m\u001b[1;33m\u001b[0m\u001b[0m\n",
      "\u001b[1;32mD:\\Anaconda3\\lib\\site-packages\\ipykernel\\kernelbase.py\u001b[0m in \u001b[0;36mraw_input\u001b[1;34m(self, prompt)\u001b[0m\n\u001b[0;32m    858\u001b[0m                 \u001b[1;34m\"raw_input was called, but this frontend does not support input requests.\"\u001b[0m\u001b[1;33m\u001b[0m\u001b[1;33m\u001b[0m\u001b[0m\n\u001b[0;32m    859\u001b[0m             )\n\u001b[1;32m--> 860\u001b[1;33m         return self._input_request(str(prompt),\n\u001b[0m\u001b[0;32m    861\u001b[0m             \u001b[0mself\u001b[0m\u001b[1;33m.\u001b[0m\u001b[0m_parent_ident\u001b[0m\u001b[1;33m,\u001b[0m\u001b[1;33m\u001b[0m\u001b[1;33m\u001b[0m\u001b[0m\n\u001b[0;32m    862\u001b[0m             \u001b[0mself\u001b[0m\u001b[1;33m.\u001b[0m\u001b[0m_parent_header\u001b[0m\u001b[1;33m,\u001b[0m\u001b[1;33m\u001b[0m\u001b[1;33m\u001b[0m\u001b[0m\n",
      "\u001b[1;32mD:\\Anaconda3\\lib\\site-packages\\ipykernel\\kernelbase.py\u001b[0m in \u001b[0;36m_input_request\u001b[1;34m(self, prompt, ident, parent, password)\u001b[0m\n\u001b[0;32m    902\u001b[0m             \u001b[1;32mexcept\u001b[0m \u001b[0mKeyboardInterrupt\u001b[0m\u001b[1;33m:\u001b[0m\u001b[1;33m\u001b[0m\u001b[1;33m\u001b[0m\u001b[0m\n\u001b[0;32m    903\u001b[0m                 \u001b[1;31m# re-raise KeyboardInterrupt, to truncate traceback\u001b[0m\u001b[1;33m\u001b[0m\u001b[1;33m\u001b[0m\u001b[1;33m\u001b[0m\u001b[0m\n\u001b[1;32m--> 904\u001b[1;33m                 \u001b[1;32mraise\u001b[0m \u001b[0mKeyboardInterrupt\u001b[0m\u001b[1;33m(\u001b[0m\u001b[1;34m\"Interrupted by user\"\u001b[0m\u001b[1;33m)\u001b[0m \u001b[1;32mfrom\u001b[0m \u001b[1;32mNone\u001b[0m\u001b[1;33m\u001b[0m\u001b[1;33m\u001b[0m\u001b[0m\n\u001b[0m\u001b[0;32m    905\u001b[0m             \u001b[1;32mexcept\u001b[0m \u001b[0mException\u001b[0m \u001b[1;32mas\u001b[0m \u001b[0me\u001b[0m\u001b[1;33m:\u001b[0m\u001b[1;33m\u001b[0m\u001b[1;33m\u001b[0m\u001b[0m\n\u001b[0;32m    906\u001b[0m                 \u001b[0mself\u001b[0m\u001b[1;33m.\u001b[0m\u001b[0mlog\u001b[0m\u001b[1;33m.\u001b[0m\u001b[0mwarning\u001b[0m\u001b[1;33m(\u001b[0m\u001b[1;34m\"Invalid Message:\"\u001b[0m\u001b[1;33m,\u001b[0m \u001b[0mexc_info\u001b[0m\u001b[1;33m=\u001b[0m\u001b[1;32mTrue\u001b[0m\u001b[1;33m)\u001b[0m\u001b[1;33m\u001b[0m\u001b[1;33m\u001b[0m\u001b[0m\n",
      "\u001b[1;31mKeyboardInterrupt\u001b[0m: Interrupted by user"
     ]
    }
   ],
   "source": [
    "print(\"Введите ширину\")\n",
    "width = int(input())\n",
    "print(\"Введите длину\")\n",
    "length = int(input())\n",
    "print(\"Введите высоту\")\n",
    "height = int(input())\n",
    "if (width <= 15) and (length <= 15) and (height <= 15):\n",
    "    print(\"Коробка №1\")\n",
    "elif (15 < width <= 50 or 15 < length <= 50 or 15 < height <= 50):\n",
    "    print(\"Коробка №2\")\n",
    "elif (length > 2000):\n",
    "    print (\"Упаковка для лыж\")\n",
    "else:\n",
    "    print (\"Стандартная коробка №3\")"
   ]
  },
  {
   "cell_type": "markdown",
   "metadata": {},
   "source": [
    "# Задание 5 (необязательное)"
   ]
  },
  {
   "cell_type": "markdown",
   "metadata": {},
   "source": [
    "Дана переменная, в которой хранится шестизначное число (номер проездного билета). Напишите программу, которая будет определять, является ли данный билет \"счастливым\". Билет считается счастливым, если сумма первых трех цифр совпадает с суммой последних трех цифр номера.\n",
    "\n",
    "Примеры работы программы:\n",
    "\n",
    "number = 123456\n",
    "Результат:\n",
    "Несчастливый билет\n",
    "\n",
    "number = 123321\n",
    "Результат:\n",
    "Счастливый билет"
   ]
  },
  {
   "cell_type": "code",
   "execution_count": 28,
   "metadata": {},
   "outputs": [
    {
     "name": "stdout",
     "output_type": "stream",
     "text": [
      "Введите первый номер билета2\n",
      "Введите второй номер билета3\n",
      "Введите третий номер билета4\n",
      "Введите четвертый номер билета4\n",
      "Введите пятый номер билета3\n",
      "Введите шестой номер билета2\n",
      "Счастливый билет\n"
     ]
    }
   ],
   "source": [
    "ticket_number1 = int(input(\"Введите первый номер билета\"))\n",
    "ticket_number2 = int(input(\"Введите второй номер билета\"))\n",
    "ticket_number3 = int(input(\"Введите третий номер билета\"))\n",
    "ticket_number4 = int(input(\"Введите четвертый номер билета\"))\n",
    "ticket_number5 = int(input(\"Введите пятый номер билета\"))\n",
    "ticket_number6 = int(input(\"Введите шестой номер билета\"))\n",
    "if (ticket_number1 + ticket_number2 + ticket_number3) == (ticket_number4 + ticket_number5 + ticket_number6):\n",
    "    print(\"Счастливый билет\")\n",
    "else:\n",
    "    print(\"Несчастливый билет\")"
   ]
  }
 ],
 "metadata": {
  "kernelspec": {
   "display_name": "Python 3",
   "language": "python",
   "name": "python3"
  },
  "language_info": {
   "codemirror_mode": {
    "name": "ipython",
    "version": 3
   },
   "file_extension": ".py",
   "mimetype": "text/x-python",
   "name": "python",
   "nbconvert_exporter": "python",
   "pygments_lexer": "ipython3",
   "version": "3.8.5"
  }
 },
 "nbformat": 4,
 "nbformat_minor": 4
}
